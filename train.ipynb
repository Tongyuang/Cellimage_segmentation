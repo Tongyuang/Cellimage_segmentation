{
 "cells": [
  {
   "cell_type": "code",
   "execution_count": 27,
   "metadata": {},
   "outputs": [],
   "source": [
    "from torchvision import transforms\n",
    "from torch.utils.data import DataLoader\n",
    "import torch\n",
    "import torch.nn as nn\n",
    "import torch.optim as optim\n",
    "from dataset import TxtLoader\n",
    "import Models\n",
    "import os\n",
    "import matplotlib.pyplot as plt\n",
    "import numpy as np\n",
    "from tqdm import tqdm"
   ]
  },
  {
   "cell_type": "code",
   "execution_count": 28,
   "metadata": {},
   "outputs": [],
   "source": [
    "def load_data(train_dir,valid_dir,input_size = 256, batch_size = 8):\n",
    "    data_transforms = {\n",
    "        'train_transform_3d':transforms.Compose([\n",
    "            transforms.RandomCrop([300,300]),\n",
    "            transforms.RandomHorizontalFlip(p = 0.25),\n",
    "            transforms.RandomApply([transforms.RandomRotation(45)],p = 0.25),\n",
    "            transforms.Resize([input_size,input_size])\n",
    "        ]),\n",
    "        'train_transform_1d':transforms.Compose([\n",
    "            transforms.RandomApply([transforms.ColorJitter(0.5,0.5,0.5,0.5)],p=0.25),\n",
    "            transforms.ToTensor()\n",
    "        ]),\n",
    "        'valid_transform_3d':transforms.Compose([\n",
    "            transforms.Resize([input_size,input_size])\n",
    "        ]),\n",
    "        'valid_transform_1d':transforms.Compose([\n",
    "            transforms.ToTensor()\n",
    "        ])       \n",
    "    }\n",
    "    \n",
    "    train_img = TxtLoader(train_dir,data_transforms['train_transform_3d'],data_transforms['train_transform_1d'])\n",
    "    valid_img = TxtLoader(valid_dir,data_transforms['valid_transform_3d'],data_transforms['valid_transform_1d'])\n",
    "    \n",
    "    train_loader = DataLoader(train_img,batch_size=batch_size,shuffle=True)\n",
    "    valid_loader = DataLoader(valid_img,batch_size=batch_size,shuffle=False)\n",
    "    \n",
    "    return train_loader,valid_loader"
   ]
  },
  {
   "cell_type": "code",
   "execution_count": 29,
   "metadata": {},
   "outputs": [],
   "source": [
    "def train_model(device,model, train_loader, valid_loader, criterion, optimizer, num_epochs = 20):\n",
    "    \n",
    "    scheduler = torch.optim.lr_scheduler.StepLR(optimizer,step_size=30,gamma=0.1)\n",
    "    \n",
    "    def train(device,model,train_loader,optimizer,criterion):\n",
    "        model.train(True)\n",
    "        total_loss = 0.0\n",
    "        total_iou_num,total_iou_den = 0,0\n",
    "        \n",
    "        for img,label in tqdm(train_loader):\n",
    "            inputs = img.to(device)\n",
    "            label = label.to(device).long()\n",
    "            optimizer.zero_grad()\n",
    "            outputs = model(inputs)\n",
    "            loss = criterion(outputs,label)\n",
    "            _,prediction = torch.max(outputs,1)\n",
    "            loss.backward()\n",
    "            optimizer.step()\n",
    "            scheduler.step()\n",
    "            \n",
    "            total_loss += loss.item() * inputs.size(0)\n",
    "            prediction,label = np.array(prediction.cpu()).reshape(-1)==1,np.array(label.cpu()).reshape(-1)==1\n",
    "            \n",
    "            total_iou_num += np.sum(prediction*label)\n",
    "            total_iou_den += np.sum(prediction+label)\n",
    "            \n",
    "        epoch_loss = total_loss/len(train_loader.dataset)\n",
    "        epoch_iou = total_iou_num/total_iou_den\n",
    "        return epoch_loss,epoch_iou\n",
    "    \n",
    "    def valid(device,model,train_loader,criterion):\n",
    "        model.train(False)\n",
    "        total_loss = 0.0\n",
    "        total_iou_num,total_iou_den = 0,0\n",
    "        \n",
    "        for img,label in tqdm(train_loader):\n",
    "            inputs = img.to(device)\n",
    "            label = label.to(device).long()\n",
    "            outputs = model(inputs)\n",
    "            loss = criterion(outputs,label)\n",
    "            _,prediction = torch.max(outputs,1)\n",
    "            \n",
    "            total_loss += loss.item() * inputs.size(0)\n",
    "            prediction,label = np.array(prediction.cpu()).reshape(-1)==1,np.array(label.cpu()).reshape(-1)==1\n",
    "            \n",
    "            total_iou_num += np.sum(prediction*label)\n",
    "            total_iou_den += np.sum(prediction+label)\n",
    "            \n",
    "        epoch_loss = total_loss/len(train_loader.dataset)\n",
    "        epoch_iou = total_iou_num/total_iou_den\n",
    "        return epoch_loss,epoch_iou\n",
    "    \n",
    "    best_iou = 0\n",
    "    for epoch in range(num_epochs):\n",
    "        print('epoch:%d / %d'%(epoch,num_epochs))\n",
    "        train_loss,train_iou = train(device,model,train_loader,optimizer,criterion)\n",
    "        scheduler.step()\n",
    "        print('Training:loss:%f,iou:%f'%(train_loss,train_iou))\n",
    "        valid_loss,valid_iou = valid(device,model,train_loader,criterion)\n",
    "        print('Validating:loss:%f,iou:%f'%(valid_loss,valid_iou))\n",
    "        if(valid_iou>best_iou):\n",
    "            best_iou = valid_iou\n",
    "            best_model = model\n",
    "            torch.save(best_model.state_dict(),'best_model.pt')\n",
    "            \n",
    "                "
   ]
  },
  {
   "cell_type": "code",
   "execution_count": null,
   "metadata": {},
   "outputs": [
    {
     "name": "stdout",
     "output_type": "stream",
     "text": [
      "epoch:0 / 100\n"
     ]
    },
    {
     "name": "stderr",
     "output_type": "stream",
     "text": [
      "\r",
      "  0%|                                                                                           | 0/17 [00:00<?, ?it/s]"
     ]
    }
   ],
   "source": [
    "os.environ[\"CUDA_VISIBLE_DEVICES\"] = \"1\"\n",
    "\n",
    "train_dir = './train_dataset.txt'\n",
    "valid_dir = './valid_dataset.txt'\n",
    "num_epochs = 100\n",
    "lr = 0.001\n",
    "model = Models.U_Net(in_ch=1,out_ch=2)\n",
    "device = torch.device(\"cuda:0\" if torch.cuda.is_available() else \"cpu\")\n",
    "model = model.to(device)\n",
    "\n",
    "train_loader,valid_loader = load_data(train_dir,valid_dir)\n",
    "optimizer = optim.SGD(model.parameters(),lr=lr,momentum=0.9)\n",
    "criterion = nn.CrossEntropyLoss(weight=torch.Tensor([1,1]).to(device))\n",
    "train_model(device,model,train_loader,valid_loader,criterion,optimizer,num_epochs=num_epochs)\n"
   ]
  },
  {
   "cell_type": "code",
   "execution_count": null,
   "metadata": {},
   "outputs": [],
   "source": []
  }
 ],
 "metadata": {
  "kernelspec": {
   "display_name": "myai",
   "language": "python",
   "name": "myai"
  },
  "language_info": {
   "codemirror_mode": {
    "name": "ipython",
    "version": 3
   },
   "file_extension": ".py",
   "mimetype": "text/x-python",
   "name": "python",
   "nbconvert_exporter": "python",
   "pygments_lexer": "ipython3",
   "version": "3.7.5"
  },
  "toc": {
   "base_numbering": 1,
   "nav_menu": {},
   "number_sections": true,
   "sideBar": true,
   "skip_h1_title": false,
   "title_cell": "Table of Contents",
   "title_sidebar": "Contents",
   "toc_cell": false,
   "toc_position": {},
   "toc_section_display": true,
   "toc_window_display": false
  },
  "varInspector": {
   "cols": {
    "lenName": 16,
    "lenType": 16,
    "lenVar": 40
   },
   "kernels_config": {
    "python": {
     "delete_cmd_postfix": "",
     "delete_cmd_prefix": "del ",
     "library": "var_list.py",
     "varRefreshCmd": "print(var_dic_list())"
    },
    "r": {
     "delete_cmd_postfix": ") ",
     "delete_cmd_prefix": "rm(",
     "library": "var_list.r",
     "varRefreshCmd": "cat(var_dic_list()) "
    }
   },
   "types_to_exclude": [
    "module",
    "function",
    "builtin_function_or_method",
    "instance",
    "_Feature"
   ],
   "window_display": false
  }
 },
 "nbformat": 4,
 "nbformat_minor": 2
}
